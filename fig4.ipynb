{
 "cells": [
  {
   "cell_type": "code",
   "execution_count": 64,
   "metadata": {},
   "outputs": [],
   "source": [
    "import numpy as np\n",
    "import matplotlib.pyplot as plt\n",
    "import matplotlib.colors as colors\n",
    "import pickle\n",
    "from scipy.optimize import shgo\n",
    "from mpl_toolkits.mplot3d import Axes3D\n",
    "\n",
    "import topo_generic as topo\n",
    "import JHD\n",
    "import importlib\n",
    "importlib.reload(topo)\n",
    "importlib.reload(JHD)\n",
    "\n",
    "#replace with %matplotlib inline if not using jupyter lab / widget\n",
    "%matplotlib widget "
   ]
  },
  {
   "cell_type": "markdown",
   "metadata": {},
   "source": [
    "# Energy spectrum (fig4.b)\n",
    "\n"
   ]
  },
  {
   "cell_type": "markdown",
   "metadata": {},
   "source": [
    "Energy spectrum is plotted for an asymmetric JHD, so the degeneracies are not along $\\phi_L=\\phi_R$.\n",
    "The function cut() allows to plot the energy spectrum along any linear combination of $\\phi_L$ and $\\phi_R$."
   ]
  },
  {
   "cell_type": "code",
   "execution_count": 2,
   "metadata": {},
   "outputs": [],
   "source": [
    "#return a vector of phiL phiR along a direction given by param\n",
    "def cut(slope,offset,phiLmin,phiLmax,dim):\n",
    "    length=phiLmax-phiLmin\n",
    "    phiLlist=np.zeros([dim])\n",
    "    phiRlist=np.zeros([dim])\n",
    "    for i in range(dim):\n",
    "        phiLlist[i]=phiLmin+length*i/(dim-1)\n",
    "        phiRlist[i]=(phiLmin+length*i/(dim-1))*slope + offset \n",
    "    return phiLlist, phiRlist"
   ]
  },
  {
   "cell_type": "markdown",
   "metadata": {},
   "source": [
    "## $\\phi_B=0$"
   ]
  },
  {
   "cell_type": "markdown",
   "metadata": {},
   "source": [
    "**compute spectrum**"
   ]
  },
  {
   "cell_type": "code",
   "execution_count": 21,
   "metadata": {},
   "outputs": [],
   "source": [
    "# %%time\n",
    "N=13\n",
    "nbands=9\n",
    "\n",
    "#init all param to base value\n",
    "Ej,Ec=1,1\n",
    "\n",
    "ng=0.259775456\n",
    "ng1=ng2=ng\n",
    "asym=[1,0.8,1.1,0.9,1.2]\n",
    "\n",
    "phiB=0\n",
    "\n",
    "slope=0.719548004\n",
    "offset=0.881065915\n",
    "dim=1501\n",
    "phiLmin=0\n",
    "phiLmax=2*np.pi\n",
    "phiLlist,phiRlist=cut(slope,offset,phiLmin,phiLmax,dim)\n",
    "\n",
    "\n",
    "E1=np.zeros([nbands,dim])\n",
    "for i in range(dim):\n",
    "    phiL=phiLlist[i]\n",
    "    phiR=phiRlist[i]\n",
    "    param=[N,Ej,Ec,ng1,ng2,phiL,phiR,phiB,asym]\n",
    "    H=JHD.getH(param)\n",
    "\n",
    "    E1[:,i],V=topo.compute_ev(H,nbands)"
   ]
  },
  {
   "cell_type": "markdown",
   "metadata": {},
   "source": [
    "**store/load data**"
   ]
  },
  {
   "cell_type": "code",
   "execution_count": 22,
   "metadata": {},
   "outputs": [],
   "source": [
    "with open('fig4_data/JHD_fig4_spectrum_1.pkl', 'wb') as outfile:\n",
    "    pickle.dump(E1,outfile)"
   ]
  },
  {
   "cell_type": "code",
   "execution_count": 23,
   "metadata": {},
   "outputs": [],
   "source": [
    "with open('fig4_data/JHD_fig4_spectrum_1.pkl', 'rb') as outfile:\n",
    "    E1=pickle.load(outfile)"
   ]
  },
  {
   "cell_type": "markdown",
   "metadata": {},
   "source": [
    "**plot data**"
   ]
  },
  {
   "cell_type": "code",
   "execution_count": 38,
   "metadata": {},
   "outputs": [
    {
     "data": {
      "application/vnd.jupyter.widget-view+json": {
       "model_id": "40f6891a59384cc1a88b63ed0c365a78",
       "version_major": 2,
       "version_minor": 0
      },
      "text/plain": [
       "Canvas(toolbar=Toolbar(toolitems=[('Home', 'Reset original view', 'home', 'home'), ('Back', 'Back to previous …"
      ]
     },
     "metadata": {},
     "output_type": "display_data"
    }
   ],
   "source": [
    "def LtoR(x):\n",
    "    return slope*x+offset\n",
    "def RtoL(x):\n",
    "    return (x-offset)/slope\n",
    "\n",
    "slope=0.719548004\n",
    "offset=0.881065915\n",
    "dim=1501\n",
    "phiLmin=0\n",
    "phiLmax=2*np.pi\n",
    "phiLlist,phiRlist=cut(slope,offset,phiLmin,phiLmax,dim)\n",
    "Ec=Ej=1\n",
    "plt.close('all')\n",
    "fig,ax=plt.subplots(figsize=(10,6))\n",
    "plt.title('Energy spectrum for $\\phi_B$=0')\n",
    "\n",
    "alpha=1\n",
    "lw=2\n",
    "for i in range(2):\n",
    "    plt.plot(phiLlist,E1[i]/np.sqrt(2*Ec*Ej),color='tab:orange')\n",
    "    \n",
    "plt.xticks(np.arange(0,(9/4)*np.pi,np.pi/4))    \n",
    "\n",
    "secax = ax.secondary_xaxis('top', functions=(LtoR,RtoL))\n",
    "secax.set_xlabel('phi_R')\n",
    "secax.set_ticks(np.arange(0,(9/4)*np.pi,np.pi/4))\n",
    "\n",
    "plt.xlabel('phi_L')\n",
    "plt.xlim(left=np.pi/2-0.1,right=3*np.pi/2+0.1)\n",
    "\n",
    "ymin,ymax=-0.9,-0.3\n",
    "plt.ylim(bottom=ymin,top=ymax)\n",
    "plt.yticks(np.arange(ymin,ymax,0.2))\n",
    "plt.show()"
   ]
  },
  {
   "cell_type": "markdown",
   "metadata": {},
   "source": [
    "## $\\phi_B=0.9$"
   ]
  },
  {
   "cell_type": "markdown",
   "metadata": {},
   "source": [
    "**compute spectrum**"
   ]
  },
  {
   "cell_type": "code",
   "execution_count": 25,
   "metadata": {},
   "outputs": [],
   "source": [
    "# %%time\n",
    "N=13\n",
    "nbands=9\n",
    "\n",
    "#init all param to base value\n",
    "Ej,Ec=1,1\n",
    "\n",
    "ng=0.254116991\n",
    "ng1=ng2=ng\n",
    "asym=[1,0.8,1.1,0.9,1.2]\n",
    "\n",
    "phiB=0.9\n",
    "\n",
    "slope=0.719548004\n",
    "offset=0.651269121\n",
    "\n",
    "dim=1501\n",
    "phiLmin=0\n",
    "phiLmax=2*np.pi\n",
    "phiLlist,phiRlist=cut(slope,offset,phiLmin,phiLmax,dim)\n",
    "\n",
    "\n",
    "E2=np.zeros([nbands,dim])\n",
    "for i in range(dim):\n",
    "    phiL=phiLlist[i]\n",
    "    phiR=phiRlist[i]\n",
    "    param=[N,Ej,Ec,ng1,ng2,phiL,phiR,phiB,asym]\n",
    "    H=JHD.getH(param)\n",
    "\n",
    "    E2[:,i],V=topo.compute_ev(H,nbands)"
   ]
  },
  {
   "cell_type": "markdown",
   "metadata": {},
   "source": [
    "**store/load data**"
   ]
  },
  {
   "cell_type": "code",
   "execution_count": 26,
   "metadata": {},
   "outputs": [],
   "source": [
    "with open('fig4_data/JHD_fig4_spectrum_2.pkl', 'wb') as outfile:\n",
    "    pickle.dump(E2,outfile)"
   ]
  },
  {
   "cell_type": "code",
   "execution_count": 27,
   "metadata": {},
   "outputs": [],
   "source": [
    "with open('fig4_data/JHD_fig4_spectrum_2.pkl', 'rb') as outfile:\n",
    "    E2=pickle.load(outfile)"
   ]
  },
  {
   "cell_type": "markdown",
   "metadata": {},
   "source": [
    "**plot data**"
   ]
  },
  {
   "cell_type": "code",
   "execution_count": 39,
   "metadata": {},
   "outputs": [
    {
     "data": {
      "application/vnd.jupyter.widget-view+json": {
       "model_id": "cd66588958dc4cc090598ae9c2b0a57e",
       "version_major": 2,
       "version_minor": 0
      },
      "text/plain": [
       "Canvas(toolbar=Toolbar(toolitems=[('Home', 'Reset original view', 'home', 'home'), ('Back', 'Back to previous …"
      ]
     },
     "metadata": {},
     "output_type": "display_data"
    }
   ],
   "source": [
    "def LtoR(x):\n",
    "    return slope*x+offset\n",
    "def RtoL(x):\n",
    "    return (x-offset)/slope\n",
    "\n",
    "slope=0.719548004\n",
    "offset=0.651269121\n",
    "\n",
    "dim=1501\n",
    "phiLmin=0\n",
    "phiLmax=2*np.pi\n",
    "phiLlist,phiRlist=cut(slope,offset,phiLmin,phiLmax,dim)\n",
    "Ec=Ej=1\n",
    "\n",
    "fig,ax=plt.subplots(figsize=(10,6))\n",
    "\n",
    "plt.title('Energy spectrum for $\\phi_B$=0.9')\n",
    "for i in range(2):\n",
    "    plt.plot(phiLlist,E2[i]/np.sqrt(2*Ec*Ej),color='tab:blue')\n",
    "\n",
    "plt.xticks(np.arange(0,(9/4)*np.pi,np.pi/4))    \n",
    "\n",
    "secax = ax.secondary_xaxis('top', functions=(LtoR,RtoL))\n",
    "secax.set_xlabel('phi_R')\n",
    "secax.set_ticks(np.arange(0,(9/4)*np.pi,np.pi/4))\n",
    "\n",
    "plt.xlabel('phi_L')\n",
    "plt.xlim(left=np.pi/2-0.6,right=3*np.pi/2-0.4)\n",
    "\n",
    "ymin,ymax=-0.9,-0.3\n",
    "plt.ylim(bottom=ymin,top=ymax)\n",
    "plt.yticks(np.arange(ymin,ymax,0.2))\n",
    "plt.show()"
   ]
  },
  {
   "cell_type": "markdown",
   "metadata": {},
   "source": [
    "# Degeneracy in 3D BZ"
   ]
  },
  {
   "cell_type": "markdown",
   "metadata": {},
   "source": [
    "## $\\phi_B=0$\n",
    "\n",
    "Search 3D parameter space comprised of $\\phi_L,\\phi_R,n_{g1}=n_{g2}=n_g$\n",
    "\n",
    "Do it in asymmetric case of figure 4"
   ]
  },
  {
   "cell_type": "code",
   "execution_count": 52,
   "metadata": {},
   "outputs": [
    {
     "name": "stderr",
     "output_type": "stream",
     "text": [
      "/mnt/users/Léo/github/JHD-paper-zenodo/JHD.py:89: VisibleDeprecationWarning: Creating an ndarray from ragged nested sequences (which is a list-or-tuple of lists-or-tuples-or ndarrays with different lengths or shapes) is deprecated. If you meant to do this, you must specify 'dtype=object' when creating the ndarray\n",
      "  args=np.array(args).reshape(np.shape(args)[-1])\n",
      "/home/leo/anaconda3/lib/python3.7/site-packages/numpy/core/_asarray.py:83: VisibleDeprecationWarning: Creating an ndarray from ragged nested sequences (which is a list-or-tuple of lists-or-tuples-or ndarrays with different lengths or shapes) is deprecated. If you meant to do this, you must specify 'dtype=object' when creating the ndarray\n",
      "  return array(a, dtype, copy=False, order=order)\n",
      "/home/leo/anaconda3/lib/python3.7/site-packages/scipy/optimize/_shgo.py:1159: OptimizeWarning: Unknown solver options: options\n",
      "  lres = minimize(self.func, x_min, **self.minimizer_kwargs)\n"
     ]
    },
    {
     "name": "stdout",
     "output_type": "stream",
     "text": [
      "gap: 2.2415463929448265e-08 \t phiLR: [2.50260261 2.68180872 0.259773  ]\n",
      "gap: 4.791244290203167e-09 \t phiLR: [3.78058266 3.60137658 0.259773  ]\n",
      "gap: 3.3869464011182515e-08 \t phiLR: [3.78058267 3.60137657 0.25977297]\n",
      "gap: 1.6726283691426147e-08 \t phiLR: [2.50260263 2.68180872 0.74022719]\n",
      "gap: 7.605618024264515e-09 \t phiLR: [3.78058266 3.60137657 0.74022719]\n",
      "CPU times: user 3min 33s, sys: 312 ms, total: 3min 33s\n",
      "Wall time: 3min 41s\n"
     ]
    }
   ],
   "source": [
    "%%time\n",
    "\n",
    "[N,Ec,Ej]=[11,1,1]\n",
    "asym=[1,0.8,1.1,0.9,1.2]\n",
    "\n",
    "tol=1e-8\n",
    "\n",
    "phiB=0\n",
    "\n",
    "philist=[0,np.pi-0.1,np.pi,np.pi+0.1,2*np.pi]\n",
    "dimphi=len(philist)\n",
    "\n",
    "nglist=[0,0.49,0.51,1]\n",
    "dimng=len(nglist)\n",
    "\n",
    "deg_gap=[]\n",
    "deg_pos=[]\n",
    "\n",
    "param=[N,Ej,Ec,phiB,asym,tol]\n",
    "for ing,ng in enumerate(nglist):\n",
    "    for iphiL,phiL in enumerate(philist):\n",
    "        for iphiR,phiR in enumerate(philist):\n",
    "            if iphiL==0 or iphiR==0 or ing==0: continue\n",
    "\n",
    "            bnds=((philist[iphiL-1],philist[iphiL]), (philist[iphiR-1],philist[iphiR]), (nglist[ing-1],nglist[ing]) )\n",
    "\n",
    "            temp_deg=shgo(JHD.minimize_phiL_phiR_ng,bnds,args=param, \\\n",
    "                          n=50, iters=6, sampling_method='sobol', \\\n",
    "                          minimizer_kwargs={'method':'SLSQP', 'options':{'options':{'ftol':1e-8, 'eps':1e-10, 'maxiter':100}}}, \\\n",
    "                          options={'ftol':1e-8, 'maxtime':60, 'local_iter':10} )\n",
    "\n",
    "            for ideg in range(len(temp_deg.funl)):\n",
    "                if temp_deg.funl[ideg]<1e-6:\n",
    "                    deg_gap.append(temp_deg.funl[ideg])\n",
    "                    deg_pos.append(temp_deg.xl[ideg])\n",
    "                    print(f'gap: {temp_deg.funl[ideg]} \\t phiLR: {temp_deg.xl[ideg]}')"
   ]
  },
  {
   "cell_type": "markdown",
   "metadata": {},
   "source": [
    "**Save/Load data**"
   ]
  },
  {
   "cell_type": "code",
   "execution_count": 53,
   "metadata": {},
   "outputs": [],
   "source": [
    "with open('fig4_data/JHD_fig4_cube_1.pkl', 'wb') as outfile:\n",
    "    pickle.dump(E2,outfile)"
   ]
  },
  {
   "cell_type": "code",
   "execution_count": 54,
   "metadata": {},
   "outputs": [],
   "source": [
    "with open('fig4_data/JHD_fig4_cube_1.pkl', 'rb') as outfile:\n",
    "    E2=pickle.load(outfile)"
   ]
  },
  {
   "cell_type": "markdown",
   "metadata": {},
   "source": [
    "**Plot degeneracies in 3D parameter space**"
   ]
  },
  {
   "cell_type": "code",
   "execution_count": 55,
   "metadata": {},
   "outputs": [
    {
     "data": {
      "application/vnd.jupyter.widget-view+json": {
       "model_id": "44292009ddaf4b2c9fbec9ef1632c9ec",
       "version_major": 2,
       "version_minor": 0
      },
      "text/plain": [
       "Canvas(toolbar=Toolbar(toolitems=[('Home', 'Reset original view', 'home', 'home'), ('Back', 'Back to previous …"
      ]
     },
     "metadata": {},
     "output_type": "display_data"
    }
   ],
   "source": [
    "deg_pos=np.array(deg_pos)\n",
    "\n",
    "fig = plt.figure()\n",
    "ax = fig.add_subplot(111, projection='3d')\n",
    "plt.title('Degeneracies in JHD parameter space, for $\\phi_B=0$')\n",
    "ax.scatter(deg_pos[:,0],deg_pos[:,1],deg_pos[:,2],alpha=1,lw=3)\n",
    "ax.set_xlim([0,2*np.pi])\n",
    "ax.set_ylim([0,2*np.pi])\n",
    "ax.set_zlim([0,1])\n",
    "ax.set_xlabel('$\\phi_L$')\n",
    "ax.set_ylabel('$\\phi_R$')\n",
    "ax.set_zlabel('$n_{g1}=n_{g2}$')\n",
    "plt.show()"
   ]
  },
  {
   "cell_type": "markdown",
   "metadata": {},
   "source": [
    "## $\\phi_B=0.9$"
   ]
  },
  {
   "cell_type": "code",
   "execution_count": 56,
   "metadata": {},
   "outputs": [
    {
     "name": "stderr",
     "output_type": "stream",
     "text": [
      "/mnt/users/Léo/github/JHD-paper-zenodo/JHD.py:89: VisibleDeprecationWarning: Creating an ndarray from ragged nested sequences (which is a list-or-tuple of lists-or-tuples-or ndarrays with different lengths or shapes) is deprecated. If you meant to do this, you must specify 'dtype=object' when creating the ndarray\n",
      "  args=np.array(args).reshape(np.shape(args)[-1])\n",
      "/home/leo/anaconda3/lib/python3.7/site-packages/numpy/core/_asarray.py:83: VisibleDeprecationWarning: Creating an ndarray from ragged nested sequences (which is a list-or-tuple of lists-or-tuples-or ndarrays with different lengths or shapes) is deprecated. If you meant to do this, you must specify 'dtype=object' when creating the ndarray\n",
      "  return array(a, dtype, copy=False, order=order)\n",
      "/home/leo/anaconda3/lib/python3.7/site-packages/scipy/optimize/_shgo.py:1159: OptimizeWarning: Unknown solver options: options\n",
      "  lres = minimize(self.func, x_min, **self.minimizer_kwargs)\n"
     ]
    },
    {
     "name": "stdout",
     "output_type": "stream",
     "text": [
      "gap: 1.3423024691761043e-08 \t phiLR: [1.92038485 2.0659114  0.42103137]\n",
      "gap: 1.9371478421348343e-08 \t phiLR: [1.92038507 2.06591128 0.42103136]\n",
      "gap: 2.456942560513653e-08 \t phiLR: [3.56323001 3.21518416 0.2541156 ]\n",
      "gap: 1.542604266546732e-08 \t phiLR: [1.92038496 2.06591133 0.57896861]\n",
      "gap: 2.0106994735868966e-08 \t phiLR: [1.9203851  2.06591127 0.5789686 ]\n",
      "gap: 1.927083570496535e-08 \t phiLR: [3.56323002 3.21518416 0.74588447]\n",
      "CPU times: user 3min 37s, sys: 688 ms, total: 3min 38s\n",
      "Wall time: 3min 48s\n"
     ]
    }
   ],
   "source": [
    "%%time\n",
    "\n",
    "[N,Ec,Ej]=[11,1,1]\n",
    "asym=[1,0.8,1.1,0.9,1.2]\n",
    "\n",
    "tol=1e-8\n",
    "\n",
    "phiB=0.9\n",
    "\n",
    "philist=[0,np.pi-0.1,np.pi,np.pi+0.1,2*np.pi]\n",
    "dimphi=len(philist)\n",
    "\n",
    "nglist=[0,0.49,0.51,1]\n",
    "dimng=len(nglist)\n",
    "\n",
    "deg_gap=[]\n",
    "deg_pos=[]\n",
    "\n",
    "param=[N,Ej,Ec,phiB,asym,tol]\n",
    "for ing,ng in enumerate(nglist):\n",
    "    for iphiL,phiL in enumerate(philist):\n",
    "        for iphiR,phiR in enumerate(philist):\n",
    "            if iphiL==0 or iphiR==0 or ing==0: continue\n",
    "\n",
    "            bnds=((philist[iphiL-1],philist[iphiL]), (philist[iphiR-1],philist[iphiR]), (nglist[ing-1],nglist[ing]) )\n",
    "\n",
    "            temp_deg=shgo(JHD.minimize_phiL_phiR_ng,bnds,args=param, \\\n",
    "                          n=50, iters=6, sampling_method='sobol', \\\n",
    "                          minimizer_kwargs={'method':'SLSQP', 'options':{'options':{'ftol':1e-8, 'eps':1e-10, 'maxiter':100}}}, \\\n",
    "                          options={'ftol':1e-8, 'maxtime':60, 'local_iter':10} )\n",
    "\n",
    "            for ideg in range(len(temp_deg.funl)):\n",
    "                if temp_deg.funl[ideg]<1e-6:\n",
    "                    deg_gap.append(temp_deg.funl[ideg])\n",
    "                    deg_pos.append(temp_deg.xl[ideg])\n",
    "                    print(f'gap: {temp_deg.funl[ideg]} \\t phiLR: {temp_deg.xl[ideg]}')"
   ]
  },
  {
   "cell_type": "markdown",
   "metadata": {},
   "source": [
    "**Save/Load data**"
   ]
  },
  {
   "cell_type": "code",
   "execution_count": 57,
   "metadata": {},
   "outputs": [],
   "source": [
    "with open('fig4_data/JHD_fig4_cube_2.pkl', 'wb') as outfile:\n",
    "    pickle.dump(E2,outfile)"
   ]
  },
  {
   "cell_type": "code",
   "execution_count": 58,
   "metadata": {},
   "outputs": [],
   "source": [
    "with open('fig4_data/JHD_fig4_cube_2.pkl', 'rb') as outfile:\n",
    "    E2=pickle.load(outfile)"
   ]
  },
  {
   "cell_type": "markdown",
   "metadata": {},
   "source": [
    "**Plot degeneracies in 3D parameter space**"
   ]
  },
  {
   "cell_type": "code",
   "execution_count": 59,
   "metadata": {},
   "outputs": [
    {
     "data": {
      "application/vnd.jupyter.widget-view+json": {
       "model_id": "37aaa33484d64da38289eedc50e00376",
       "version_major": 2,
       "version_minor": 0
      },
      "text/plain": [
       "Canvas(toolbar=Toolbar(toolitems=[('Home', 'Reset original view', 'home', 'home'), ('Back', 'Back to previous …"
      ]
     },
     "metadata": {},
     "output_type": "display_data"
    }
   ],
   "source": [
    "deg_pos=np.array(deg_pos)\n",
    "\n",
    "fig = plt.figure()\n",
    "ax = fig.add_subplot(111, projection='3d')\n",
    "plt.title('Degeneracies in JHD parameter space, for $\\phi_B=0.9$')\n",
    "ax.scatter(deg_pos[:,0],deg_pos[:,1],deg_pos[:,2],alpha=1,lw=3)\n",
    "ax.set_xlim([0,2*np.pi])\n",
    "ax.set_ylim([0,2*np.pi])\n",
    "ax.set_zlim([0,1])\n",
    "ax.set_xlabel('$\\phi_L$')\n",
    "ax.set_ylabel('$\\phi_R$')\n",
    "ax.set_zlabel('$n_{g1}=n_{g2}$')\n",
    "plt.show()"
   ]
  },
  {
   "cell_type": "markdown",
   "metadata": {},
   "source": [
    "# Chern number\n",
    "\n",
    "Compute Chern number as shown in fig4.d"
   ]
  },
  {
   "cell_type": "markdown",
   "metadata": {},
   "source": [
    "## Generate data\n",
    "\n",
    "Chern is computed by integrating the Berry curvature $B_{\\phi_R,\\phi_L}$ on a $\\phi_L,\\phi_R$ plane at fixed $\\phi_B$ and $n_g$.\n",
    "\n",
    "For a good accuracy, a fine $\\phi_L,\\phi_R$ grid is necessary. This requires a relatively long computation time (several hours to days).\n",
    "\n",
    "Datas are available in the next part for $\\phi_B=0.9$."
   ]
  },
  {
   "cell_type": "code",
   "execution_count": 65,
   "metadata": {},
   "outputs": [
    {
     "name": "stdout",
     "output_type": "stream",
     "text": [
      "ng = 0.0 \t Chern=-2.107810744357941e-14\n",
      "ng = 0.014705882352941176 \t Chern=-0.019369956056837216\n",
      "ng = 0.029411764705882353 \t Chern=-0.0384808731735683\n",
      "ng = 0.044117647058823525 \t Chern=-0.057162557828108425\n",
      "ng = 0.058823529411764705 \t Chern=-0.07518580086855567\n",
      "ng = 0.07352941176470588 \t Chern=-0.09218002589289084\n",
      "ng = 0.08823529411764705 \t Chern=-0.10759727468808215\n",
      "ng = 0.10294117647058823 \t Chern=-0.12068499182874547\n",
      "ng = 0.11764705882352941 \t Chern=-0.13045386395532402\n",
      "ng = 0.1323529411764706 \t Chern=-0.1356510156348101\n",
      "ng = 0.14705882352941177 \t Chern=-0.1348600796778147\n",
      "ng = 0.16176470588235295 \t Chern=-0.12659976318984606\n",
      "ng = 0.1764705882352941 \t Chern=-0.10960043734707196\n",
      "ng = 0.19117647058823528 \t Chern=-0.08266045618625284\n",
      "ng = 0.20588235294117646 \t Chern=-0.045240165764636214\n",
      "ng = 0.22058823529411764 \t Chern=0.0018983295116372725\n",
      "ng = 0.23529411764705882 \t Chern=0.05670173288577165\n",
      "ng = 0.25 \t Chern=0.11586721216517844\n",
      "ng = 0.2647058823529412 \t Chern=0.1752242562617101\n",
      "ng = 0.27941176470588236 \t Chern=0.23042205964192763\n",
      "ng = 0.29411764705882354 \t Chern=0.2770816405073221\n",
      "ng = 0.3088235294117647 \t Chern=0.3123309617224759\n",
      "ng = 0.3235294117647059 \t Chern=0.3348850558301421\n",
      "ng = 0.3382352941176471 \t Chern=0.3446535634950837\n",
      "ng = 0.3529411764705882 \t Chern=0.34250575929769056\n",
      "ng = 0.3676470588235294 \t Chern=0.3298166158754406\n",
      "ng = 0.38235294117647056 \t Chern=0.3086208504880504\n",
      "ng = 0.39705882352941174 \t Chern=0.28061844947163606\n",
      "ng = 0.4117647058823529 \t Chern=0.24740204699000304\n",
      "ng = 0.4264705882352941 \t Chern=0.21034479430249012\n",
      "ng = 0.4411764705882353 \t Chern=0.17057905881318658\n",
      "ng = 0.45588235294117646 \t Chern=0.12900137891997474\n",
      "ng = 0.47058823529411764 \t Chern=0.0863319443966281\n",
      "ng = 0.4852941176470588 \t Chern=0.04318398087528477\n",
      "ng = 0.5 \t Chern=2.764101997845517e-05\n",
      "CPU times: user 1min 6s, sys: 156 ms, total: 1min 7s\n",
      "Wall time: 1min 9s\n"
     ]
    }
   ],
   "source": [
    "%%time\n",
    "N=9\n",
    "nbands=7\n",
    "\n",
    "#init all param to base value\n",
    "Ej,Ec=1,1\n",
    "\n",
    "asym=[1,0.8,1.1,0.9,1.2]\n",
    "\n",
    "\n",
    "dimphi=11\n",
    "phiList=np.linspace(0,2*np.pi,dimphi)\n",
    "\n",
    "dimng=35\n",
    "nglist=np.linspace(0,0.5,dimng)\n",
    "\n",
    "phiB=0.9\n",
    "\n",
    "Chern=np.zeros([dimng])\n",
    "\n",
    "for ing,ng in enumerate(nglist):\n",
    "    BC=np.zeros([dimphi,dimphi])\n",
    "    for i,phiL in enumerate(phiList):\n",
    "        for j,phiR in enumerate(phiList):\n",
    "            paramH=[N,Ej,Ec,ng,ng,phiL,phiR,phiB,asym]\n",
    "            H=JHD.getH(paramH)\n",
    "            paramdH=[N,Ej,phiL,phiR,phiB,asym]\n",
    "            dH=JHD.getdH_LR(paramdH)\n",
    "            BC[i,j]=topo.compute_BC(H,dH,nbands)\n",
    "    Chern[ing]=np.trapz( np.trapz(BC,phiList),phiList)/2/np.pi\n",
    "    print(f'ng = {ng} \\t Chern={Chern[ing]}')\n"
   ]
  },
  {
   "cell_type": "markdown",
   "metadata": {},
   "source": [
    "## load computed data for $\\phi_B=0.9$"
   ]
  },
  {
   "cell_type": "code",
   "execution_count": 73,
   "metadata": {},
   "outputs": [],
   "source": [
    "#load computed Chern number for ng in [0,0.5]\n",
    "with open('fig4_data/JHD_fig4_chern_phiB09.pkl', 'rb') as outfile:\n",
    "    Chern=pickle.load(outfile)[0]\n",
    "\n",
    "# mirror Chern for ng in [0.5,1]\n",
    "Chern_=Chern[2,1:]\n",
    "Chern=np.hstack((Chern[2],-Chern_[::-1]))\n",
    "\n",
    "#global minus sign to follow convention defined in appendix A of https://arxiv.org/pdf/2009.03291.pdf\n",
    "Chern=-Chern"
   ]
  },
  {
   "cell_type": "code",
   "execution_count": 74,
   "metadata": {},
   "outputs": [
    {
     "data": {
      "application/vnd.jupyter.widget-view+json": {
       "model_id": "80b790b863be4a8da60b450683636a08",
       "version_major": 2,
       "version_minor": 0
      },
      "text/plain": [
       "Canvas(toolbar=Toolbar(toolitems=[('Home', 'Reset original view', 'home', 'home'), ('Back', 'Back to previous …"
      ]
     },
     "metadata": {},
     "output_type": "display_data"
    }
   ],
   "source": [
    "dimphi=301\n",
    "\n",
    "#define nglist, and mirror for ng above 0.5\n",
    "dimng=35\n",
    "nglist=np.linspace(0,0.5,dimng)\n",
    "temp=nglist+0.5\n",
    "nglist=np.hstack((nglist,temp[1:]))\n",
    "\n",
    "fig,ax=plt.subplots(figsize=(8,5))\n",
    "plt.title(f'Chern number for phiB = {1.0*phiB:.4} and asym={asym}')\n",
    "\n",
    "plt.plot(nglist,Chern,'.-')\n",
    "\n",
    "plt.xlabel('$n_g$')\n",
    "plt.ylabel('Chern number')\n",
    "plt.show()"
   ]
  },
  {
   "cell_type": "code",
   "execution_count": null,
   "metadata": {},
   "outputs": [],
   "source": []
  }
 ],
 "metadata": {
  "kernelspec": {
   "display_name": "Python 3",
   "language": "python",
   "name": "python3"
  },
  "language_info": {
   "codemirror_mode": {
    "name": "ipython",
    "version": 3
   },
   "file_extension": ".py",
   "mimetype": "text/x-python",
   "name": "python",
   "nbconvert_exporter": "python",
   "pygments_lexer": "ipython3",
   "version": "3.7.3"
  }
 },
 "nbformat": 4,
 "nbformat_minor": 4
}

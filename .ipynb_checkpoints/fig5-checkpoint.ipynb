{
 "cells": [
  {
   "cell_type": "code",
   "execution_count": 1,
   "metadata": {},
   "outputs": [],
   "source": [
    "import numpy as np\n",
    "import matplotlib.pyplot as plt\n",
    "import matplotlib.colors as colors\n",
    "from matplotlib import ticker\n",
    "import pickle\n",
    "from scipy.optimize import shgo\n",
    "from mpl_toolkits.mplot3d import Axes3D\n",
    "import time\n",
    "import datetime\n",
    "import numpy.ma as ma\n",
    "\n",
    "import topo_generic as topo\n",
    "import JHD\n",
    "import importlib\n",
    "importlib.reload(topo)\n",
    "importlib.reload(JHD)\n",
    "\n",
    "# %matplotlib widget  \n",
    "%matplotlib inline "
   ]
  },
  {
   "cell_type": "markdown",
   "metadata": {
    "collapsed": "true"
   },
   "source": [
    "# Fig5 computation\n",
    "\n",
    "**Algorithm summary**\n",
    "\n",
    "The goal of this algorithm is to find the minimum excitation in the $\\phi_L,\\phi_R$ plane, for different values of $\\phi_B$ and $n_g$.\n",
    "\n",
    "To do so, I first fix $\\phi_B$. Then I look for the minimum excitation energy in the whole $\\phi_L,\\phi_R$ plane, and in a small $n_g$ interval.\n",
    "\n",
    "Due to the symmetry of the circuit, I only compute the energy gap for $n_g$ in [0,0.5], and for $\\phi_B$ in [0,$pi$]. Then I just mirror the data for the whole parameter space.\n",
    "\n",
    "**Runtime**\n",
    "\n",
    "This computation requires quite some time for a high resolution as in figure 5 of https://arxiv.org/pdf/2009.03291.pdf \n",
    "\n",
    "On a regular desktop computer, it may take more than a day.\n",
    "\n",
    "It helps to parallelize the computation.\n",
    "\n",
    "The datas used in https://arxiv.org/pdf/2009.03291.pdf are loaded in part 2.\n",
    "\n"
   ]
  },
  {
   "cell_type": "code",
   "execution_count": null,
   "metadata": {},
   "outputs": [],
   "source": [
    "%%time\n",
    "\n",
    "Ej=1\n",
    "Ec=1\n",
    "\n",
    "N=13\n",
    "\n",
    "asym=[1,0.8,1.1,0.9,1.2]\n",
    "\n",
    "tol=1e-8\n",
    "\n",
    "phiBlist=np.linspace(0,np.pi,101)\n",
    "dimphiB=len(phiBlist)\n",
    "\n",
    "nglist=np.linspace(0,0.5,101)\n",
    "dimng=len(nglist)\n",
    "    \n",
    "deg_gap=np.zeros([dimphiB,dimng])\n",
    "deg_pos=np.zeros([dimphiB,dimng,4]) #4 coordinates: L, R, ng, phiB\n",
    "deg_time=np.zeros([dimphiB,dimng])\n",
    "\n",
    "for (iphiB,phiB) in enumerate(phiBlist):\n",
    "    print('phiB : ',phiB)\n",
    "    print('{datetime}'.format(datetime=datetime.datetime.now()))\n",
    "    param=[N,Ej,Ec,phiB,asym,tol]\n",
    "    start_time=time.time()\n",
    "    \n",
    "    for (ing,ng) in enumerate(nglist):\n",
    "        start_time_ng=time.time()\n",
    "        print(ing)\n",
    "        if ing%10==0:\n",
    "            print(f'ing is {ing}')\n",
    "        if ing==0: continue ##skip first iteration to use end of interval to define it\n",
    "            \n",
    "        bnds=((0,2*np.pi), (0,2*np.pi), (nglist[ing-1],nglist[ing]))\n",
    "        \n",
    "        temp_deg=shgo(JHD.minimize_phiL_phiR_ng,bnds,args=param, \\\n",
    "                      n=151, iters=15, sampling_method='sobol', \\\n",
    "                      minimizer_kwargs={'method':'SLSQP', 'options':{'options':{'ftol':1e-8, 'eps':1e-10, 'maxiter':100}}}, \\\n",
    "                      options={'ftol':1e-8, 'maxtime':60, 'local_iter':10} )\n",
    "\n",
    "\n",
    "        deg_time[iphiB,ing]=time.time()-start_time\n",
    "        deg_gap[iphiB,ing]=temp_deg.fun\n",
    "        deg_pos[iphiB,ing]=np.hstack([temp_deg.x,phiB])\n",
    "        \n",
    "        print(f'gap: {deg_gap[iphiB,ing]} \\t ng: {deg_pos[iphiB,ing,2]} \\t phiB: {deg_pos[iphiB,ing,3]}')\n",
    "        if ing%10==0:\n",
    "            print(f'this ng run took {time.time()-start_time_ng:.4f}sec')\n",
    "        print()\n",
    "    print(f'{time.time()-start_time}sec for this phiB run')\n",
    "    print(f'estimate remaining time to {(time.time()-start_time)*(dimphiB-iphiB+1)/60}min')"
   ]
  },
  {
   "cell_type": "markdown",
   "metadata": {},
   "source": [
    "# load data and display fig5"
   ]
  },
  {
   "cell_type": "markdown",
   "metadata": {},
   "source": [
    "**Load data**\n",
    "\n",
    "==> skip if data were computed in previous part"
   ]
  },
  {
   "cell_type": "code",
   "execution_count": 2,
   "metadata": {},
   "outputs": [],
   "source": [
    "phiBlist=np.linspace(0,np.pi,101)\n",
    "nglist=np.linspace(0,0.5,101)\n",
    "\n",
    "with open('fig5_data/JHD_fig5.pkl', 'rb') as outfile:\n",
    "    deg_gap,deg_pos=pickle.load(outfile)"
   ]
  },
  {
   "cell_type": "markdown",
   "metadata": {},
   "source": [
    "**mirror symmetry to enlarge to full parameter space**"
   ]
  },
  {
   "cell_type": "code",
   "execution_count": 3,
   "metadata": {},
   "outputs": [],
   "source": [
    "def unfold(phiBlist,nglist,deg_gap,invert=False):\n",
    "    ##### first let's double phiB resolution, and remove first ng point (which is zero) ####\n",
    "    print('initial degen shape is ',np.shape(deg_gap))\n",
    "    #double phiB size\n",
    "    phiBlist=np.linspace(phiBlist[0],phiBlist[-1],2*len(phiBlist)-1)\n",
    "    #shift half interval so that phiB[i] is center of interval i\n",
    "    phiBlist=phiBlist[:-1]+0.5*(phiBlist[1]-phiBlist[0])\n",
    "    \n",
    "    #double phiB resolution for deg_gap (minus two points at extremities) and remove one ng point (first one is zero)\n",
    "    deg_gap_double=np.empty([2*len(deg_gap)-2,len(deg_gap)-1])\n",
    "    #extremities counted once\n",
    "    deg_gap_double[0]=deg_gap[0,1:]\n",
    "    deg_gap_double[-1]=deg_gap[-1,1:]\n",
    "    #other phiB points doubled with same value\n",
    "    for i in range(1,len(deg_gap)-1):\n",
    "        deg_gap_double[2*i-1]=deg_gap[i,1:]\n",
    "        deg_gap_double[2*i]=deg_gap[i,1:]\n",
    "    print('shape after doubling phiB resolution is ',np.shape(deg_gap_double))\n",
    "    deg_gap=deg_gap_double\n",
    "    \n",
    "    #### now unfold in both direction to cover whole parameter space ####\n",
    "    #new nglist: remove last element, then shift everything by half step (so now elem i corresponds to middle of interval i)\n",
    "    nglist_=np.linspace(0,1,2*len(nglist)-1)[:-1]\n",
    "    nglist_=nglist_+0.5*(nglist_[1]-nglist_[0])\n",
    "    #new phiBlist:\n",
    "    phiBlist_=np.concatenate((-phiBlist[::-1],phiBlist))\n",
    "    \n",
    "    #symmetrize for both ng and phiB \n",
    "    if invert==False:\n",
    "        # unfold for negative phiB\n",
    "        deg_gap=np.concatenate((deg_gap[::-1],deg_gap),0)\n",
    "        # unfold for ng>0.5\n",
    "        deg_gap=np.concatenate((deg_gap,deg_gap[:,::-1]),1)\n",
    "    #add a minus sign if it is chern number which is replicated\n",
    "    elif invert==True:\n",
    "        # unfold for negative phiB\n",
    "        deg_gap=np.concatenate((-1*deg_gap[::-1],deg_gap),0)\n",
    "        # unfold for ng>0.5\n",
    "        deg_gap=np.concatenate((deg_gap,-1*deg_gap[:,::-1]),1)\n",
    "        \n",
    "\n",
    "    print('final deg_gap shape is ',np.shape(deg_gap))\n",
    "    return phiBlist_,nglist_,deg_gap"
   ]
  },
  {
   "cell_type": "markdown",
   "metadata": {},
   "source": [
    "**extract Chern number in one region**"
   ]
  },
  {
   "cell_type": "code",
   "execution_count": 4,
   "metadata": {},
   "outputs": [],
   "source": [
    "Chern=np.zeros([len(phiBlist),len(nglist)])\n",
    "\n",
    "for (iphiB,phiB) in enumerate(phiBlist):\n",
    "    count=0\n",
    "    for (ing,ng) in enumerate(nglist):\n",
    "            if count==2:\n",
    "                Chern[iphiB,ing]=-1\n",
    "            if deg_gap[iphiB,ing]<1e-6:\n",
    "                count+=1\n",
    "\n",
    "#apply correction by hand for first phiB value\n",
    "Chern[0,54:]=0"
   ]
  },
  {
   "cell_type": "code",
   "execution_count": 5,
   "metadata": {},
   "outputs": [
    {
     "name": "stdout",
     "output_type": "stream",
     "text": [
      "initial degen shape is  (101, 101)\n",
      "shape after doubling phiB resolution is  (200, 100)\n",
      "final deg_gap shape is  (400, 200)\n"
     ]
    }
   ],
   "source": [
    "phiBlist_, nglist_, Chern_=unfold(phiBlist,nglist,Chern,invert=True)"
   ]
  },
  {
   "cell_type": "code",
   "execution_count": null,
   "metadata": {},
   "outputs": [],
   "source": []
  },
  {
   "cell_type": "code",
   "execution_count": 6,
   "metadata": {},
   "outputs": [],
   "source": [
    "deg_gap_triv=np.copy(deg_gap)\n",
    "\n",
    "for (iphiB,phiB) in enumerate(phiBlist):\n",
    "    count=0\n",
    "    for (ing,ng) in enumerate(nglist):\n",
    "        if Chern[iphiB,ing]!=0:\n",
    "            deg_gap_triv[iphiB,ing]=float('nan')\n"
   ]
  },
  {
   "cell_type": "code",
   "execution_count": 7,
   "metadata": {},
   "outputs": [],
   "source": [
    "deg_gap_topo=np.copy(deg_gap)\n",
    "\n",
    "for (iphiB,phiB) in enumerate(phiBlist):\n",
    "    count=0\n",
    "    for (ing,ng) in enumerate(nglist):\n",
    "        if Chern[iphiB,ing]==0:\n",
    "            deg_gap_topo[iphiB,ing]=float('nan')\n"
   ]
  },
  {
   "cell_type": "markdown",
   "metadata": {},
   "source": [
    "**Unfold the masked degen list**"
   ]
  },
  {
   "cell_type": "code",
   "execution_count": 8,
   "metadata": {},
   "outputs": [
    {
     "name": "stdout",
     "output_type": "stream",
     "text": [
      "initial degen shape is  (101, 101)\n",
      "shape after doubling phiB resolution is  (200, 100)\n",
      "final deg_gap shape is  (400, 200)\n",
      "initial degen shape is  (101, 101)\n",
      "shape after doubling phiB resolution is  (200, 100)\n",
      "final deg_gap shape is  (400, 200)\n"
     ]
    }
   ],
   "source": [
    "phiBlist_, nglist_, deg_gap_triv_log=unfold(phiBlist,nglist,deg_gap_triv)\n",
    "phiBlist_, nglist_, deg_gap_topo_log=unfold(phiBlist,nglist,deg_gap_topo)"
   ]
  },
  {
   "cell_type": "markdown",
   "metadata": {},
   "source": [
    "**Final plot: same logscale for both**"
   ]
  },
  {
   "cell_type": "code",
   "execution_count": 9,
   "metadata": {},
   "outputs": [
    {
     "data": {
      "image/png": "[encoded data removed]",
      "text/plain": [
       "<Figure size 1008x576 with 3 Axes>"
      ]
     },
     "metadata": {
      "needs_background": "light"
     },
     "output_type": "display_data"
    }
   ],
   "source": [
    "plt.close('all')\n",
    "fig=plt.figure(figsize=(14,8))\n",
    "plt.rcParams.update({'font.size': 14})\n",
    "\n",
    "X,Y = np.meshgrid(phiBlist_,nglist_,indexing='ij')  ### NEED indexing='ij' SO THAT MESHGRID DOES NOT INVERT X AND Y\n",
    "\n",
    "plt.pcolormesh(X,Y,deg_gap_triv_log, shading='nearest', cmap='gray',norm=colors.LogNorm(vmin=10e-4,vmax=0.2)) \n",
    "plt.colorbar(label='Energy gap (units of $\\hbar \\omega_p$)')\n",
    "\n",
    "fig = plt.gcf()\n",
    "cbar_ax = fig.axes[-1]\n",
    "cbar_ax.tick_params(which='major',width=0,length=10)\n",
    "cbar_ax.tick_params(which='minor',width=0,length=6)\n",
    "\n",
    "\n",
    "plt.pcolormesh(X,Y,deg_gap_topo_log, shading='nearest', cmap='inferno',norm=colors.LogNorm(vmin=10e-4,vmax=0.2)) \n",
    "plt.colorbar()\n",
    "\n",
    "fig = plt.gcf()\n",
    "cbar_ax = fig.axes[-1]\n",
    "cbar_ax.tick_params(which='major',width=2,length=10)\n",
    "cbar_ax.tick_params(which='minor',width=1,length=6)\n",
    "\n",
    "\n",
    "plt.xlabel('$\\phi_B$')\n",
    "plt.ylabel('$n_g$')\n",
    "plt.xticks(np.arange(-np.pi,1.5*np.pi,0.5*np.pi))\n",
    "plt.yticks(np.arange(0,1.25,0.25))\n",
    "plt.tick_params(which='major',width=2,length=10)\n",
    "\n",
    "plt.show()\n",
    "\n",
    "# plt.savefig('fig5.png',dpi=800)\n"
   ]
  },
  {
   "cell_type": "code",
   "execution_count": null,
   "metadata": {},
   "outputs": [],
   "source": []
  },
  {
   "cell_type": "code",
   "execution_count": null,
   "metadata": {},
   "outputs": [],
   "source": []
  }
 ],
 "metadata": {
  "kernelspec": {
   "display_name": "Python 3",
   "language": "python",
   "name": "python3"
  },
  "language_info": {
   "codemirror_mode": {
    "name": "ipython",
    "version": 3
   },
   "file_extension": ".py",
   "mimetype": "text/x-python",
   "name": "python",
   "nbconvert_exporter": "python",
   "pygments_lexer": "ipython3",
   "version": "3.7.3"
  }
 },
 "nbformat": 4,
 "nbformat_minor": 4
}

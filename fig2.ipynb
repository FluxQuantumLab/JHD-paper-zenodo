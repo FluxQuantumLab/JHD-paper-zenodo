{
 "cells": [
  {
   "cell_type": "code",
   "execution_count": 5,
   "metadata": {},
   "outputs": [],
   "source": [
    "import numpy as np\n",
    "import matplotlib.pyplot as plt\n",
    "import pickle\n",
    "from scipy.optimize import shgo\n",
    "from mpl_toolkits.mplot3d import Axes3D\n",
    "\n",
    "import topo_generic as topo\n",
    "import cpp\n",
    "import importlib\n",
    "importlib.reload(topo)\n",
    "importlib.reload(cpp)\n",
    "\n",
    "#replace with %matplotlib inline if not using jupyter lab / widget\n",
    "%matplotlib widget "
   ]
  },
  {
   "cell_type": "code",
   "execution_count": 2,
   "metadata": {},
   "outputs": [
    {
     "data": {
      "text/plain": [
       "'/mnt/users/Léo/github/JHD-paper-zenodo'"
      ]
     },
     "execution_count": 2,
     "metadata": {},
     "output_type": "execute_result"
    }
   ],
   "source": [
    "%pwd"
   ]
  },
  {
   "cell_type": "markdown",
   "metadata": {},
   "source": [
    "# Energy spectrum (fig2.c)"
   ]
  },
  {
   "cell_type": "markdown",
   "metadata": {},
   "source": [
    "**Setup computation parameters**"
   ]
  },
  {
   "cell_type": "code",
   "execution_count": 12,
   "metadata": {},
   "outputs": [],
   "source": [
    "N=11 # number of charge states\n",
    "nbands=7 # number of excited states to computed\n",
    "Ej,Ec=1,1 # Josephson and charging energy\n",
    "asym=[1,1,1] # Asymmetry factor (surface of JJ with fixed plasma frequency)\n",
    "\n",
    "# compute energy spectrum for different values of $\\varphi_X$\n",
    "phiXList=[0.99*np.pi,np.pi]\n",
    "dimphiX=len(phiXList)\n",
    "\n",
    "# compute energy along ng1=ng2\n",
    "dimng=801\n",
    "ngList=np.linspace(0,1,dimng)"
   ]
  },
  {
   "cell_type": "markdown",
   "metadata": {},
   "source": [
    "**Compute energy spectrum of cpp along $n_{g1}=n_{g2}$ for different values of $\\varphi_X$**"
   ]
  },
  {
   "cell_type": "code",
   "execution_count": 8,
   "metadata": {},
   "outputs": [
    {
     "ename": "NameError",
     "evalue": "name 'nbands' is not defined",
     "output_type": "error",
     "traceback": [
      "\u001b[0;31m---------------------------------------------------------------------------\u001b[0m",
      "\u001b[0;31mNameError\u001b[0m                                 Traceback (most recent call last)",
      "\u001b[0;32m<ipython-input-8-ff8b1060f8b5>\u001b[0m in \u001b[0;36m<module>\u001b[0;34m\u001b[0m\n\u001b[0;32m----> 1\u001b[0;31m \u001b[0mE\u001b[0m\u001b[0;34m=\u001b[0m\u001b[0mnp\u001b[0m\u001b[0;34m.\u001b[0m\u001b[0mzeros\u001b[0m\u001b[0;34m(\u001b[0m\u001b[0;34m[\u001b[0m\u001b[0mnbands\u001b[0m\u001b[0;34m,\u001b[0m\u001b[0mdimphiX\u001b[0m\u001b[0;34m,\u001b[0m\u001b[0mdimng\u001b[0m\u001b[0;34m]\u001b[0m\u001b[0;34m)\u001b[0m\u001b[0;34m\u001b[0m\u001b[0;34m\u001b[0m\u001b[0m\n\u001b[0m\u001b[1;32m      2\u001b[0m \u001b[0;32mfor\u001b[0m \u001b[0miphiX\u001b[0m\u001b[0;34m,\u001b[0m\u001b[0mphiX\u001b[0m \u001b[0;32min\u001b[0m \u001b[0menumerate\u001b[0m\u001b[0;34m(\u001b[0m\u001b[0mphiXList\u001b[0m\u001b[0;34m)\u001b[0m\u001b[0;34m:\u001b[0m\u001b[0;34m\u001b[0m\u001b[0;34m\u001b[0m\u001b[0m\n\u001b[1;32m      3\u001b[0m     \u001b[0;32mfor\u001b[0m \u001b[0ming\u001b[0m\u001b[0;34m,\u001b[0m\u001b[0mng\u001b[0m \u001b[0;32min\u001b[0m \u001b[0menumerate\u001b[0m\u001b[0;34m(\u001b[0m\u001b[0mngList\u001b[0m\u001b[0;34m)\u001b[0m\u001b[0;34m:\u001b[0m\u001b[0;34m\u001b[0m\u001b[0;34m\u001b[0m\u001b[0m\n\u001b[1;32m      4\u001b[0m         \u001b[0mparam\u001b[0m\u001b[0;34m=\u001b[0m\u001b[0;34m[\u001b[0m\u001b[0mN\u001b[0m\u001b[0;34m,\u001b[0m\u001b[0mEc\u001b[0m\u001b[0;34m,\u001b[0m\u001b[0mEj\u001b[0m\u001b[0;34m,\u001b[0m\u001b[0mng\u001b[0m\u001b[0;34m,\u001b[0m\u001b[0mng\u001b[0m\u001b[0;34m,\u001b[0m\u001b[0mphiX\u001b[0m\u001b[0;34m,\u001b[0m\u001b[0masym\u001b[0m\u001b[0;34m]\u001b[0m\u001b[0;34m\u001b[0m\u001b[0;34m\u001b[0m\u001b[0m\n\u001b[1;32m      5\u001b[0m         \u001b[0mH\u001b[0m\u001b[0;34m=\u001b[0m\u001b[0mcpp\u001b[0m\u001b[0;34m.\u001b[0m\u001b[0mgetH\u001b[0m\u001b[0;34m(\u001b[0m\u001b[0mparam\u001b[0m\u001b[0;34m)\u001b[0m\u001b[0;34m\u001b[0m\u001b[0;34m\u001b[0m\u001b[0m\n",
      "\u001b[0;31mNameError\u001b[0m: name 'nbands' is not defined"
     ]
    }
   ],
   "source": [
    "E=np.zeros([nbands,dimphiX,dimng])\n",
    "for iphiX,phiX in enumerate(phiXList):\n",
    "    for ing,ng in enumerate(ngList):\n",
    "        param=[N,Ec,Ej,ng,ng,phiX,asym]\n",
    "        H=cpp.getH(param)\n",
    "\n",
    "        E[:,iphiX,ing],temp=topo.compute_ev(H,nbands=nbands)"
   ]
  },
  {
   "cell_type": "markdown",
   "metadata": {},
   "source": [
    "**Save data**"
   ]
  },
  {
   "cell_type": "code",
   "execution_count": 98,
   "metadata": {},
   "outputs": [],
   "source": [
    "with open('fig2_data/cpp_fig2_spectrum.pkl', 'wb') as outfile:\n",
    "    pickle.dump(E,outfile)"
   ]
  },
  {
   "cell_type": "markdown",
   "metadata": {},
   "source": [
    "**Load data**"
   ]
  },
  {
   "cell_type": "code",
   "execution_count": 13,
   "metadata": {},
   "outputs": [],
   "source": [
    "with open('fig2_data/cpp_fig2_spectrum.pkl', 'rb') as outfile:\n",
    "    E=pickle.load(outfile)"
   ]
  },
  {
   "cell_type": "markdown",
   "metadata": {},
   "source": [
    "**Plot first two excited states for different values of $\\varphi_X$**"
   ]
  },
  {
   "cell_type": "code",
   "execution_count": 14,
   "metadata": {},
   "outputs": [
    {
     "data": {
      "application/vnd.jupyter.widget-view+json": {
       "model_id": "e6370809d4ad4df981d7823deb3904f8",
       "version_major": 2,
       "version_minor": 0
      },
      "text/plain": [
       "Canvas(toolbar=Toolbar(toolitems=[('Home', 'Reset original view', 'home', 'home'), ('Back', 'Back to previous …"
      ]
     },
     "metadata": {},
     "output_type": "display_data"
    }
   ],
   "source": [
    "plt.figure(figsize=(8,4))\n",
    "colors=['tab:orange','tab:blue']\n",
    "\n",
    "for j in range(2):\n",
    "    #divide by sqrt(2*Ej*Ec) to normalize by plasma frequency\n",
    "    plt.plot(ngList,E[0,j]/np.sqrt(2*Ej*Ec),color=colors[j],label=f'phiX={phiXList[j]:.3f}')\n",
    "    plt.plot(ngList,E[1,j]/np.sqrt(2*Ej*Ec),color=colors[j])\n",
    "    \n",
    "plt.legend()\n",
    "plt.title('Energy spectrum of cpp along $n_{g1}=n_{g2}$')\n",
    "plt.xlabel('$n_{g1}=n_{g2}$')\n",
    "plt.ylabel('$E/\\hbar \\omega_p$')\n",
    "plt.xlim(left=0.2,right=0.8)\n",
    "plt.ylim(top=-0.39,bottom=-0.49)\n",
    "plt.show()"
   ]
  },
  {
   "cell_type": "markdown",
   "metadata": {},
   "source": [
    "# Degeneracy in whole 3D parameter space\n",
    "\n",
    "**Find degeneracies in the whole cpp parameter space, for a given set of Ej,Ec**\n",
    "\n",
    "Divide parameter space in few parts, and use SHGO algorithm to look for degeneracies in each subset."
   ]
  },
  {
   "cell_type": "code",
   "execution_count": 15,
   "metadata": {},
   "outputs": [
    {
     "name": "stderr",
     "output_type": "stream",
     "text": [
      "/mnt/users/Léo/github/JHD-paper-zenodo/cpp.py:51: VisibleDeprecationWarning: Creating an ndarray from ragged nested sequences (which is a list-or-tuple of lists-or-tuples-or ndarrays with different lengths or shapes) is deprecated. If you meant to do this, you must specify 'dtype=object' when creating the ndarray\n",
      "  args=np.array(args).reshape(np.shape(args)[-1])\n",
      "/home/leo/anaconda3/lib/python3.7/site-packages/numpy/core/_asarray.py:83: VisibleDeprecationWarning: Creating an ndarray from ragged nested sequences (which is a list-or-tuple of lists-or-tuples-or ndarrays with different lengths or shapes) is deprecated. If you meant to do this, you must specify 'dtype=object' when creating the ndarray\n",
      "  return array(a, dtype, copy=False, order=order)\n",
      "/home/leo/anaconda3/lib/python3.7/site-packages/scipy/optimize/_shgo.py:1159: OptimizeWarning: Unknown solver options: options\n",
      "  lres = minimize(self.func, x_min, **self.minimizer_kwargs)\n"
     ]
    },
    {
     "name": "stdout",
     "output_type": "stream",
     "text": [
      "gap: 9.54779777462278e-09 \t at (ng1,ng2,phiX)=[0.33333332 0.33333333 3.14159265]\n",
      "gap: 1.3948974864064212e-08 \t at (ng1,ng2,phiX)=[0.33333336 0.33333332 3.14159265]\n",
      "gap: 2.129665044314777e-08 \t at (ng1,ng2,phiX)=[0.66666662 0.66666669 3.14159265]\n"
     ]
    }
   ],
   "source": [
    "N=11 # number of charge states\n",
    "nbands=7 # number of excited states to computed\n",
    "Ej,Ec=1,1 # Josephson and charging energy\n",
    "asym=[1,1,1] # Asymmetry factor (surface of JJ with fixed plasma frequency)\n",
    "tol=1e-8 #tolerance for eigsh eigensolver\n",
    "\n",
    "#search in subsets of full parameter space\n",
    "nglist=np.linspace(0,1,5)\n",
    "dimng=len(nglist)\n",
    "phiXlist=np.linspace(0,2*np.pi,5)\n",
    "dimphiX=len(phiXlist)\n",
    "\n",
    "#store degeneracies gap and position\n",
    "deg_gap,deg_pos=[],[]\n",
    "\n",
    "param=[N,Ej,Ec,asym,tol]#initiate parameter for SHGO\n",
    "\n",
    "for ing1 in range(dimng):\n",
    "    for ing2 in range(dimng):\n",
    "        for iphiX in range(dimphiX):\n",
    "            if ing1==0 or ing2==0 or iphiX==0: continue #skip first element\n",
    "                \n",
    "            bnds=( (nglist[ing1-1], nglist[ing1]), (nglist[ing2-1], nglist[ing2]), (phiXlist[iphiX-1],phiXlist[iphiX]) )\n",
    "            \n",
    "            temp_deg=shgo(cpp.minimize,bnds,args=param, n=30, iters=4, sampling_method='sobol', \\\n",
    "                          minimizer_kwargs={'method':'SLSQP', 'options':{'options':{'ftol':1e-8, 'eps':1e-10}}}, \\\n",
    "                          options={'ftol':1e-8, 'maxtime':120, 'local_iter':20} )\n",
    "\n",
    "            for ideg in range(len(temp_deg.funl)):\n",
    "                if temp_deg.funl[ideg]<1e-5:\n",
    "                    deg_gap.append(temp_deg.funl[ideg])\n",
    "                    deg_pos.append(temp_deg.xl[ideg])\n",
    "                    print(f'gap: {temp_deg.funl[ideg]} \\t at (ng1,ng2,phiX)={temp_deg.xl[ideg]}')"
   ]
  },
  {
   "cell_type": "markdown",
   "metadata": {},
   "source": [
    "**Save degeneracies**"
   ]
  },
  {
   "cell_type": "code",
   "execution_count": 19,
   "metadata": {},
   "outputs": [],
   "source": [
    "with open('fig2_data/cpp_fig2_degen.pkl', 'wb') as outfile:\n",
    "    pickle.dump([deg_gap,deg_pos],outfile)"
   ]
  },
  {
   "cell_type": "markdown",
   "metadata": {},
   "source": [
    "**Load degeneracies**"
   ]
  },
  {
   "cell_type": "code",
   "execution_count": 20,
   "metadata": {},
   "outputs": [],
   "source": [
    "with open('fig2_data/cpp_fig2_degen.pkl', 'rb') as outfile:\n",
    "    deg_gap,deg_pos=pickle.load(outfile)"
   ]
  },
  {
   "cell_type": "markdown",
   "metadata": {},
   "source": [
    "**Plot degeneracies in ng1/ng2/phiX parameter space**"
   ]
  },
  {
   "cell_type": "code",
   "execution_count": 21,
   "metadata": {},
   "outputs": [
    {
     "data": {
      "application/vnd.jupyter.widget-view+json": {
       "model_id": "7e0ed4ad606440e6b54c115e0d894cb4",
       "version_major": 2,
       "version_minor": 0
      },
      "text/plain": [
       "Canvas(toolbar=Toolbar(toolitems=[('Home', 'Reset original view', 'home', 'home'), ('Back', 'Back to previous …"
      ]
     },
     "metadata": {},
     "output_type": "display_data"
    }
   ],
   "source": [
    "deg_pos=np.array(deg_pos)\n",
    "\n",
    "fig = plt.figure()\n",
    "ax = fig.add_subplot(111, projection='3d')\n",
    "plt.title('Degeneracies in cpp parameter space')\n",
    "ax.scatter(deg_pos[:,0],deg_pos[:,1],deg_pos[:,2],alpha=1,lw=3)\n",
    "ax.set_xlim([0,1])\n",
    "ax.set_ylim([0,1])\n",
    "ax.set_zlim([0,2*np.pi])\n",
    "ax.set_xlabel('$n_{g1}$')\n",
    "ax.set_ylabel('$n_{g2}$')\n",
    "ax.set_zlabel('$\\phi_X$')\n",
    "plt.show()"
   ]
  },
  {
   "cell_type": "code",
   "execution_count": null,
   "metadata": {},
   "outputs": [],
   "source": []
  }
 ],
 "metadata": {
  "kernelspec": {
   "display_name": "Python 3",
   "language": "python",
   "name": "python3"
  },
  "language_info": {
   "codemirror_mode": {
    "name": "ipython",
    "version": 3
   },
   "file_extension": ".py",
   "mimetype": "text/x-python",
   "name": "python",
   "nbconvert_exporter": "python",
   "pygments_lexer": "ipython3",
   "version": "3.7.3"
  },
  "toc-autonumbering": true
 },
 "nbformat": 4,
 "nbformat_minor": 4
}

{
 "cells": [
  {
   "cell_type": "code",
   "execution_count": 2,
   "metadata": {},
   "outputs": [],
   "source": [
    "import numpy as np\n",
    "import matplotlib.pyplot as plt\n",
    "import matplotlib.colors as colors\n",
    "import pickle\n",
    "from scipy.optimize import shgo\n",
    "\n",
    "import topo_generic as topo\n",
    "import JHD\n",
    "import importlib\n",
    "importlib.reload(topo)\n",
    "importlib.reload(JHD)\n",
    "\n",
    "#use widget if possible for interactive plots. Otherwise use inline\n",
    "%matplotlib widget  \n",
    "# %matplotlib inline"
   ]
  },
  {
   "cell_type": "markdown",
   "metadata": {},
   "source": [
    "**This figure is similar as figure 5, but for different values of $E_J/E_C$ in the symmetric case.**"
   ]
  },
  {
   "cell_type": "markdown",
   "metadata": {},
   "source": [
    "# Generate data\n",
    "\n",
    "One may use this mimization algorithm (same as fig5) to generate data for multiple value of $\\alpha$.\n",
    "\n",
    "It may take several hours for each value of $E_J/E_C$."
   ]
  },
  {
   "cell_type": "code",
   "execution_count": null,
   "metadata": {},
   "outputs": [],
   "source": [
    "%%time\n",
    "\n",
    "#use ratio=Ej/Ec, while keeping Ej*Ec constant\n",
    "alpha=1/pi\n",
    "Ej=1/(2*np.pi*alpha)\n",
    "Ec=np.pi*alpha\n",
    "ratio=Ej/Ec\n",
    "print(f'Fig_ratio_alpha_2: \\n Ratio Ej/Ec={ratio:.4f} for alpha={alpha:.4f}')\n",
    "\n",
    "N=13\n",
    "\n",
    "asym=[1,1,1,1,1]\n",
    "\n",
    "tol=1e-8\n",
    "\n",
    "phiBlist=np.linspace(0,np.pi,51)\n",
    "dimphiB=len(phiBlist)\n",
    "\n",
    "nglist=np.linspace(0,0.5,51)\n",
    "dimng=len(nglist)\n",
    "    \n",
    "deg_gap=np.zeros([dimphiB,dimng])\n",
    "deg_pos=np.zeros([dimphiB,dimng,4]) #4 coordinates: L, R, ng, phiB\n",
    "deg_time=np.zeros([dimphiB,dimng])\n",
    "\n",
    "for (iphiB,phiB) in enumerate(phiBlist):\n",
    "    print('phiB : ',phiB)\n",
    "    print('{datetime}'.format(datetime=datetime.datetime.now()))\n",
    "    param=[N,Ej,Ec,phiB,asym,tol]\n",
    "    start_time=time.time()\n",
    "    \n",
    "    for (ing,ng) in enumerate(nglist):\n",
    "        start_time_ng=time.time()\n",
    "        print(ing)\n",
    "        if ing%10==0:\n",
    "            print(f'ing is {ing}')\n",
    "        if ing==0: continue ##skip first iteration to use end of interval to define it\n",
    "            \n",
    "        bnds=((0,2*np.pi), (0,2*np.pi), (nglist[ing-1],nglist[ing]))\n",
    "        \n",
    "        temp_deg=shgo(cpp_2m.minimize_phiL_phiR_ng,bnds,args=param, \\\n",
    "                      n=101, iters=9, sampling_method='sobol', \\\n",
    "                      minimizer_kwargs={'method':'SLSQP', 'options':{'options':{'ftol':1e-8, 'eps':1e-10, 'maxiter':500}}}, \\\n",
    "                      options={'ftol':1e-8, 'maxtime':600, 'local_iter':10} )\n",
    "\n",
    "\n",
    "        deg_time[iphiB,ing]=time.time()-start_time\n",
    "        deg_gap[iphiB,ing]=temp_deg.fun\n",
    "        deg_pos[iphiB,ing]=np.hstack([temp_deg.x,phiB])\n",
    "        \n",
    "        print(f'gap: {deg_gap[iphiB,ing]} \\t ng: {deg_pos[iphiB,ing,2]} \\t phiB: {deg_pos[iphiB,ing,3]}')\n",
    "        if ing%10==0:\n",
    "            print(f'this ng run took {time.time()-start_time_ng:.4f}sec')\n",
    "        print()\n",
    "    print(f'{time.time()-start_time}sec for this phiB run')\n",
    "    print(f'estimate remaining time to {(time.time()-start_time)*(dimphiB-iphiB+1)/60}min')"
   ]
  },
  {
   "cell_type": "markdown",
   "metadata": {},
   "source": [
    "# Load article data\n",
    "\n",
    "Loading four files for each quadrant of the figure.\n",
    "\n",
    "Multiple files are available, with different values of $\\alpha$. \n",
    "\n",
    "They contain the minimum gap value deg_gap\n",
    "\n",
    "JHD_fig8_alpha_i.pkl contains :\n",
    "\n",
    "| i | $\\alpha$ | $E_J/E_C$ |\n",
    "| --- | --- | ---|\n",
    "| 1 | 0.1 | 5.1|\n",
    "| 8 | 1/(pi.sqrt(2)) | 1 |\n",
    "| 7 | 0.5 | 0.202|\n",
    "| 4 | 2 | 0.0127|"
   ]
  },
  {
   "cell_type": "code",
   "execution_count": 3,
   "metadata": {},
   "outputs": [],
   "source": [
    "deg_gap=np.empty((4,51,51))\n",
    "\n",
    "name=[1,8,7,4] #which file to load, cf table above\n",
    "\n",
    "#load each quadrant\n",
    "for i in range(1,5):\n",
    "    filename='fig8_data/JHD_fig8_alpha_'+str(name[i-1])+'.pkl'\n",
    "    with open(filename,'rb') as outfile:\n",
    "        a=pickle.load(outfile)\n",
    "        deg_gap[i-1]=a"
   ]
  },
  {
   "cell_type": "markdown",
   "metadata": {},
   "source": [
    "# display data"
   ]
  },
  {
   "cell_type": "markdown",
   "metadata": {},
   "source": [
    "**Data are computed only in one quadrant, then the symmetry of the parameter space is used to fill the whole phase space with the function \"unfold()\".**"
   ]
  },
  {
   "cell_type": "code",
   "execution_count": 4,
   "metadata": {},
   "outputs": [],
   "source": [
    "def unfold(phiBlist,nglist,deg_gap):\n",
    "    ##### first let's double phiB resolution, and remove first ng point (which is zero) ####\n",
    "    print('initial degen shape is ',np.shape(deg_gap))\n",
    "    #double phiB size\n",
    "    phiBlist=np.linspace(phiBlist[0],phiBlist[-1],2*len(phiBlist)-1)\n",
    "    #shift half interval so that phiB[i] is center of interval i\n",
    "    phiBlist=phiBlist[:-1]+0.5*(phiBlist[1]-phiBlist[0])\n",
    "    \n",
    "    #double phiB resolution for deg_gap (minus two points at extremities) and remove one ng point (first one is zero)\n",
    "    deg_gap_double=np.empty([2*len(deg_gap)-2,len(deg_gap)-1])\n",
    "    #extremities counted once\n",
    "    deg_gap_double[0]=deg_gap[0,1:]\n",
    "    deg_gap_double[-1]=deg_gap[-1,1:]\n",
    "    #other phiB points doubled with same value\n",
    "    for i in range(1,len(deg_gap)-1):\n",
    "        deg_gap_double[2*i-1]=deg_gap[i,1:]\n",
    "        deg_gap_double[2*i]=deg_gap[i,1:]\n",
    "    print('shape after doubling phiB resolution is ',np.shape(deg_gap_double))\n",
    "    deg_gap=deg_gap_double\n",
    "    \n",
    "    #### now unfold in both direction to cover whole parameter space ####\n",
    "    #new nglist: remove last element, then shift everything by half step (so now elem i corresponds to middle of interval i)\n",
    "    nglist_=np.linspace(0,1,2*len(nglist)-1)[:-1]\n",
    "    nglist_=nglist_+0.5*(nglist_[1]-nglist_[0])\n",
    "    #new phiBlist:\n",
    "    phiBlist_=np.concatenate((-phiBlist[::-1],phiBlist))\n",
    "    \n",
    "    # unfold for negative phiB\n",
    "    deg_gap=np.concatenate((deg_gap[::-1],deg_gap),0)\n",
    "    # unfold for ng>0.5\n",
    "    deg_gap=np.concatenate((deg_gap,deg_gap[:,::-1]),1)\n",
    "    print('final deg_gap shape is ',np.shape(deg_gap))\n",
    "    return phiBlist_,nglist_,deg_gap"
   ]
  },
  {
   "cell_type": "code",
   "execution_count": 5,
   "metadata": {},
   "outputs": [],
   "source": [
    "dimphiB,dimng=51,51\n",
    "phiBlist=np.linspace(0,np.pi,dimphiB)\n",
    "nglist=np.linspace(0,0.5,dimng)"
   ]
  },
  {
   "cell_type": "code",
   "execution_count": 6,
   "metadata": {},
   "outputs": [
    {
     "name": "stdout",
     "output_type": "stream",
     "text": [
      "initial degen shape is  (51, 51)\n",
      "shape after doubling phiB resolution is  (100, 50)\n",
      "final deg_gap shape is  (200, 100)\n",
      "initial degen shape is  (51, 51)\n",
      "shape after doubling phiB resolution is  (100, 50)\n",
      "final deg_gap shape is  (200, 100)\n",
      "initial degen shape is  (51, 51)\n",
      "shape after doubling phiB resolution is  (100, 50)\n",
      "final deg_gap shape is  (200, 100)\n",
      "initial degen shape is  (51, 51)\n",
      "shape after doubling phiB resolution is  (100, 50)\n",
      "final deg_gap shape is  (200, 100)\n"
     ]
    }
   ],
   "source": [
    "deg_gap_full=np.empty((4,200,100))\n",
    "for i,deg_gap_ in enumerate(deg_gap):\n",
    "    phiBlist_,nglist_,deg_gap_full[i]=unfold(phiBlist,nglist,deg_gap_)"
   ]
  },
  {
   "cell_type": "code",
   "execution_count": 7,
   "metadata": {},
   "outputs": [],
   "source": [
    "deg_gap_cut=np.empty((200,100))\n",
    "deg_gap_cut[:100,:50]=deg_gap_full[0,:100,:50] #ratio=1\n",
    "deg_gap_cut[100:,:50]=deg_gap_full[1,100:,:50] #ratio=3\n",
    "deg_gap_cut[:100,50:]=deg_gap_full[3,:100,50:] #ratio 1/100\n",
    "deg_gap_cut[100:,50:]=deg_gap_full[2,100:,50:]"
   ]
  },
  {
   "cell_type": "code",
   "execution_count": 9,
   "metadata": {},
   "outputs": [
    {
     "data": {
      "application/vnd.jupyter.widget-view+json": {
       "model_id": "9420577347eb416dbd1d1f523b29ad32",
       "version_major": 2,
       "version_minor": 0
      },
      "text/plain": [
       "Canvas(toolbar=Toolbar(toolitems=[('Home', 'Reset original view', 'home', 'home'), ('Back', 'Back to previous …"
      ]
     },
     "metadata": {},
     "output_type": "display_data"
    }
   ],
   "source": [
    "fig=plt.figure(figsize=(10,7))\n",
    "plt.title('')\n",
    "\n",
    "plt.rcParams.update({'font.size': 14})\n",
    "\n",
    "X,Y = np.meshgrid(phiBlist_,nglist_,indexing='ij')  ### NEED indexing='ij' SO THAT MESHGRID DOES NOT INVERT X AND Y\n",
    "\n",
    "plt.pcolormesh(X,Y,deg_gap_cut, shading='nearest', norm=colors.LogNorm(vmin=1e-3,vmax=0.1), cmap='viridis') \n",
    "plt.colorbar(label='Energy gap (units of $\\hbar \\omega_p$)')\n",
    "plt.xlabel('$\\phi_B$')\n",
    "plt.ylabel('$n_g$')\n",
    "plt.xticks(np.arange(-np.pi,1.5*np.pi,0.5*np.pi))\n",
    "plt.yticks(np.arange(0.25,1,0.25))\n",
    "plt.ylim(bottom=0.15,top=0.85)\n",
    "plt.show()"
   ]
  },
  {
   "cell_type": "code",
   "execution_count": null,
   "metadata": {},
   "outputs": [],
   "source": []
  },
  {
   "cell_type": "code",
   "execution_count": null,
   "metadata": {},
   "outputs": [],
   "source": []
  }
 ],
 "metadata": {
  "kernelspec": {
   "display_name": "Python 3",
   "language": "python",
   "name": "python3"
  },
  "language_info": {
   "codemirror_mode": {
    "name": "ipython",
    "version": 3
   },
   "file_extension": ".py",
   "mimetype": "text/x-python",
   "name": "python",
   "nbconvert_exporter": "python",
   "pygments_lexer": "ipython3",
   "version": "3.7.3"
  }
 },
 "nbformat": 4,
 "nbformat_minor": 4
}

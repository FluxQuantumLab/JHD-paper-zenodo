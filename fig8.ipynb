{
 "cells": [
  {
   "cell_type": "code",
   "execution_count": 1,
   "metadata": {},
   "outputs": [],
   "source": [
    "import numpy as np\n",
    "import matplotlib.pyplot as plt\n",
    "import matplotlib.colors as colors\n",
    "import pickle\n",
    "from scipy.optimize import shgo\n",
    "\n",
    "import topo_generic as topo\n",
    "import JHD\n",
    "import importlib\n",
    "importlib.reload(topo)\n",
    "importlib.reload(JHD)\n",
    "\n",
    "#%matplotlib widget  ## better to use this for interactive plot with jupyter lab\n",
    "%matplotlib inline"
   ]
  },
  {
   "cell_type": "markdown",
   "metadata": {},
   "source": [
    "**This figure is similar as figure 5, but for different values of $E_J/E_C$ in the symmetric case.**"
   ]
  },
  {
   "cell_type": "markdown",
   "metadata": {},
   "source": [
    "# Generate data\n",
    "\n",
    "One may use this mimization algorithm (same as fig5) to generate data for multiple value of $\\alpha$.\n",
    "\n",
    "It may take several hours for each value of $E_J/E_C$."
   ]
  },
  {
   "cell_type": "code",
   "execution_count": null,
   "metadata": {},
   "outputs": [],
   "source": [
    "%%time\n",
    "\n",
    "#use ratio=Ej/Ec, while keeping Ej*Ec constant\n",
    "alpha=1/pi\n",
    "Ej=1/(2*np.pi*alpha)\n",
    "Ec=np.pi*alpha\n",
    "ratio=Ej/Ec\n",
    "print(f'Fig_ratio_alpha_2: \\n Ratio Ej/Ec={ratio:.4f} for alpha={alpha:.4f}')\n",
    "\n",
    "N=13\n",
    "\n",
    "asym=[1,1,1,1,1]\n",
    "\n",
    "tol=1e-8\n",
    "\n",
    "phiBlist=np.linspace(0,np.pi,51)\n",
    "dimphiB=len(phiBlist)\n",
    "\n",
    "nglist=np.linspace(0,0.5,51)\n",
    "dimng=len(nglist)\n",
    "    \n",
    "deg_gap=np.zeros([dimphiB,dimng])\n",
    "deg_pos=np.zeros([dimphiB,dimng,4]) #4 coordinates: L, R, ng, phiB\n",
    "deg_time=np.zeros([dimphiB,dimng])\n",
    "\n",
    "for (iphiB,phiB) in enumerate(phiBlist):\n",
    "    print('phiB : ',phiB)\n",
    "    print('{datetime}'.format(datetime=datetime.datetime.now()))\n",
    "    param=[N,Ej,Ec,phiB,asym,tol]\n",
    "    start_time=time.time()\n",
    "    \n",
    "    for (ing,ng) in enumerate(nglist):\n",
    "        start_time_ng=time.time()\n",
    "        print(ing)\n",
    "        if ing%10==0:\n",
    "            print(f'ing is {ing}')\n",
    "        if ing==0: continue ##skip first iteration to use end of interval to define it\n",
    "            \n",
    "        bnds=((0,2*np.pi), (0,2*np.pi), (nglist[ing-1],nglist[ing]))\n",
    "        \n",
    "        temp_deg=shgo(cpp_2m.minimize_phiL_phiR_ng,bnds,args=param, \\\n",
    "                      n=101, iters=9, sampling_method='sobol', \\\n",
    "                      minimizer_kwargs={'method':'SLSQP', 'options':{'options':{'ftol':1e-8, 'eps':1e-10, 'maxiter':500}}}, \\\n",
    "                      options={'ftol':1e-8, 'maxtime':600, 'local_iter':10} )\n",
    "\n",
    "\n",
    "        deg_time[iphiB,ing]=time.time()-start_time\n",
    "        deg_gap[iphiB,ing]=temp_deg.fun\n",
    "        deg_pos[iphiB,ing]=np.hstack([temp_deg.x,phiB])\n",
    "        \n",
    "        print(f'gap: {deg_gap[iphiB,ing]} \\t ng: {deg_pos[iphiB,ing,2]} \\t phiB: {deg_pos[iphiB,ing,3]}')\n",
    "        if ing%10==0:\n",
    "            print(f'this ng run took {time.time()-start_time_ng:.4f}sec')\n",
    "        print()\n",
    "    print(f'{time.time()-start_time}sec for this phiB run')\n",
    "    print(f'estimate remaining time to {(time.time()-start_time)*(dimphiB-iphiB+1)/60}min')"
   ]
  },
  {
   "cell_type": "markdown",
   "metadata": {},
   "source": [
    "# Load article data\n",
    "\n",
    "Loading four files for each quadrant of the figure.\n",
    "\n",
    "Multiple files are available, with different values of $\\alpha$. \n",
    "\n",
    "They contain both the minimum gap value, and the exact position of the degeneracies [deg_gap,deg_pos]. \n",
    "\n",
    "JHD_fig8_alpha_i.pkl contains :\n",
    "\n",
    "| i | $\\alpha$ | $E_J/E_C$ |\n",
    "| --- | --- | ---|\n",
    "| 1 | 0.1 | 5.1|\n",
    "| 2 | 1/$\\pi$ |0.5|\n",
    "| 3 | 0.75 | 0.09|\n",
    "| 4 | 2 | 0.0127|\n",
    "| 5 | 1.5 | 0.0225|\n",
    "| 6 | 1.25 | 0.0324|\n",
    "| 9 | 0.25 | 0.811|\n",
    "\n",
    "Note: JHD_fig8_alpha_1.pkl has some numerical errors, corrected in JHD_fig8_alpha_1_2.pkl. Both are loaded below"
   ]
  },
  {
   "cell_type": "code",
   "execution_count": 2,
   "metadata": {},
   "outputs": [
    {
     "name": "stdout",
     "output_type": "stream",
     "text": [
      "(51, 51)\n",
      "(51, 51)\n",
      "(51, 51)\n",
      "(51, 51)\n",
      "(4, 51)\n"
     ]
    }
   ],
   "source": [
    "deg_gap=np.empty((4,51,51))\n",
    "\n",
    "name=[1,2,3,5] #which file to load, cf table above\n",
    "\n",
    "#load each quadrant\n",
    "for i in range(1,5):\n",
    "    filename='fig8_data/JHD_fig8_alpha_'+str(name[i-1])+'.pkl'\n",
    "    with open(filename,'rb') as outfile:\n",
    "        a,b=pickle.load(outfile)\n",
    "        print(np.shape(a))\n",
    "        deg_gap[i-1]=a\n",
    "\n",
    "##correct alpha_1 to remove some numerical errors\n",
    "filename='fig8_data/JHD_fig8_alpha_1_2.pkl'\n",
    "with open(filename,'rb') as outfile:\n",
    "    a,b=pickle.load(outfile)\n",
    "    print(np.shape(a))\n",
    "    deg_gap[0,10:14]=a"
   ]
  },
  {
   "cell_type": "markdown",
   "metadata": {},
   "source": [
    "# display data"
   ]
  },
  {
   "cell_type": "markdown",
   "metadata": {},
   "source": [
    "**Data are computed only in one quadrant, then the symmetry of the parameter space is used to fill the whole phase space with the function \"unfold()\".**"
   ]
  },
  {
   "cell_type": "code",
   "execution_count": 3,
   "metadata": {},
   "outputs": [],
   "source": [
    "def unfold(phiBlist,nglist,deg_gap):\n",
    "    phiBlist=np.linspace(-np.pi,np.pi,2*len(phiBlist)-1)\n",
    "    \n",
    "    #nglist: remove last element, then shift everything by half step (so now elem i corresponds to middle of interval i)\n",
    "    nglist=np.linspace(0,1,2*len(nglist)-1)[:-1]\n",
    "    nglist=nglist+0.5*(nglist[1]-nglist[0])\n",
    "    \n",
    "    ## remove phiB=pi from second set\n",
    "    deg_gap=np.concatenate((deg_gap[::-1][1:],deg_gap),0)\n",
    "    #unfold on ng: remove first ng point, unfold, then remove first elem which is centered at ng=0.5, counted twice\n",
    "    deg_gap=np.concatenate((deg_gap,deg_gap[:,1:][:,::-1][:,1:]),1)\n",
    "\n",
    "    return phiBlist,nglist,deg_gap"
   ]
  },
  {
   "cell_type": "code",
   "execution_count": 4,
   "metadata": {},
   "outputs": [],
   "source": [
    "dimphiB,dimng=51,51\n",
    "phiBlist=np.linspace(0,np.pi,dimphiB)\n",
    "nglist=np.linspace(0,0.5,dimng)"
   ]
  },
  {
   "cell_type": "code",
   "execution_count": 5,
   "metadata": {},
   "outputs": [],
   "source": [
    "deg_gap_full=np.empty((4,101,100))\n",
    "for i,deg_gap_ in enumerate(deg_gap):\n",
    "    phiBlist_,nglist_,deg_gap_full[i]=unfold(phiBlist,nglist,deg_gap_)"
   ]
  },
  {
   "cell_type": "code",
   "execution_count": 6,
   "metadata": {},
   "outputs": [],
   "source": [
    "#assign one alpha value to each quadrant\n",
    "deg_gap_cut=np.empty((101,100))\n",
    "deg_gap_cut[:50,:51]=deg_gap_full[0,:50,:51]\n",
    "deg_gap_cut[50:,:51]=deg_gap_full[1,50:,:51]\n",
    "deg_gap_cut[:50,51:]=deg_gap_full[3,:50,51:]\n",
    "deg_gap_cut[50:,51:]=deg_gap_full[2,50:,51:]"
   ]
  },
  {
   "cell_type": "code",
   "execution_count": 8,
   "metadata": {},
   "outputs": [
    {
     "data": {
      "image/png": "[encoded data removed]",
      "text/plain": [
       "<Figure size 720x504 with 2 Axes>"
      ]
     },
     "metadata": {
      "needs_background": "light"
     },
     "output_type": "display_data"
    }
   ],
   "source": [
    "fig=plt.figure(figsize=(10,7))\n",
    "plt.title('')\n",
    "\n",
    "plt.rcParams.update({'font.size': 14})\n",
    "\n",
    "X,Y = np.meshgrid(phiBlist_,nglist_,indexing='ij')  ### NEED indexing='ij' SO THAT MESHGRID DOES NOT INVERT X AND Y\n",
    "\n",
    "plt.pcolormesh(X,Y,deg_gap_cut[:,1:], shading='nearest', norm=colors.LogNorm(vmin=1e-3,vmax=0.2), cmap='viridis') \n",
    "plt.colorbar(label='Energy gap (units of $\\hbar \\omega_p$)')\n",
    "plt.xlabel('$\\phi_B$')\n",
    "plt.ylabel('$n_g$')\n",
    "plt.xticks(np.arange(-np.pi,1.5*np.pi,0.5*np.pi))\n",
    "plt.yticks(np.arange(0.25,1,0.25))\n",
    "plt.ylim(bottom=0.15,top=0.85)\n",
    "plt.show()"
   ]
  },
  {
   "cell_type": "code",
   "execution_count": null,
   "metadata": {},
   "outputs": [],
   "source": []
  }
 ],
 "metadata": {
  "kernelspec": {
   "display_name": "Python 3",
   "language": "python",
   "name": "python3"
  },
  "language_info": {
   "codemirror_mode": {
    "name": "ipython",
    "version": 3
   },
   "file_extension": ".py",
   "mimetype": "text/x-python",
   "name": "python",
   "nbconvert_exporter": "python",
   "pygments_lexer": "ipython3",
   "version": "3.7.3"
  }
 },
 "nbformat": 4,
 "nbformat_minor": 4
}
